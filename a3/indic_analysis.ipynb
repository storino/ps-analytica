{
 "cells": [
  {
   "cell_type": "code",
   "execution_count": 2,
   "metadata": {},
   "outputs": [],
   "source": [
    "import basedosdados as bd\n",
    "import pandas as pd"
   ]
  },
  {
   "cell_type": "code",
   "execution_count": 3,
   "metadata": {},
   "outputs": [
    {
     "name": "stderr",
     "output_type": "stream",
     "text": [
      "Downloading: 100%|██████████| 100186/100186 [00:22<00:00, 4523.52rows/s]\n"
     ]
    }
   ],
   "source": [
    "df = bd.read_table(dataset_id='br_ibge_pib',\n",
    "table_id='municipio',\n",
    "billing_project_id=\"45888281253\")"
   ]
  },
  {
   "cell_type": "code",
   "execution_count": 6,
   "metadata": {},
   "outputs": [
    {
     "data": {
      "text/html": [
       "<div>\n",
       "<style scoped>\n",
       "    .dataframe tbody tr th:only-of-type {\n",
       "        vertical-align: middle;\n",
       "    }\n",
       "\n",
       "    .dataframe tbody tr th {\n",
       "        vertical-align: top;\n",
       "    }\n",
       "\n",
       "    .dataframe thead th {\n",
       "        text-align: right;\n",
       "    }\n",
       "</style>\n",
       "<table border=\"1\" class=\"dataframe\">\n",
       "  <thead>\n",
       "    <tr style=\"text-align: right;\">\n",
       "      <th></th>\n",
       "      <th>ano</th>\n",
       "      <th>id_municipio</th>\n",
       "      <th>pib</th>\n",
       "      <th>impostos_liquidos</th>\n",
       "      <th>va</th>\n",
       "      <th>va_agropecuaria</th>\n",
       "      <th>va_industria</th>\n",
       "      <th>va_servicos</th>\n",
       "      <th>va_adespss</th>\n",
       "    </tr>\n",
       "  </thead>\n",
       "  <tbody>\n",
       "    <tr>\n",
       "      <th>9323</th>\n",
       "      <td>2003</td>\n",
       "      <td>3544509</td>\n",
       "      <td>17383476</td>\n",
       "      <td>505394</td>\n",
       "      <td>16878081</td>\n",
       "      <td>5207312</td>\n",
       "      <td>1286491</td>\n",
       "      <td>4986100</td>\n",
       "      <td>5398178</td>\n",
       "    </tr>\n",
       "    <tr>\n",
       "      <th>14645</th>\n",
       "      <td>2004</td>\n",
       "      <td>3522802</td>\n",
       "      <td>62234548</td>\n",
       "      <td>2291225</td>\n",
       "      <td>59943324</td>\n",
       "      <td>13365260</td>\n",
       "      <td>5399281</td>\n",
       "      <td>24826828</td>\n",
       "      <td>16351955</td>\n",
       "    </tr>\n",
       "    <tr>\n",
       "      <th>33025</th>\n",
       "      <td>2007</td>\n",
       "      <td>5103601</td>\n",
       "      <td>135584450</td>\n",
       "      <td>9981247</td>\n",
       "      <td>125603203</td>\n",
       "      <td>65428335</td>\n",
       "      <td>17329679</td>\n",
       "      <td>24473648</td>\n",
       "      <td>18371541</td>\n",
       "    </tr>\n",
       "    <tr>\n",
       "      <th>96726</th>\n",
       "      <td>2019</td>\n",
       "      <td>2923100</td>\n",
       "      <td>207760986</td>\n",
       "      <td>14311742</td>\n",
       "      <td>193449244</td>\n",
       "      <td>8225106</td>\n",
       "      <td>13609286</td>\n",
       "      <td>69581320</td>\n",
       "      <td>102033532</td>\n",
       "    </tr>\n",
       "    <tr>\n",
       "      <th>73816</th>\n",
       "      <td>2015</td>\n",
       "      <td>2601409</td>\n",
       "      <td>393925607</td>\n",
       "      <td>28200604</td>\n",
       "      <td>365725003</td>\n",
       "      <td>29662508</td>\n",
       "      <td>22015785</td>\n",
       "      <td>162263561</td>\n",
       "      <td>151783150</td>\n",
       "    </tr>\n",
       "  </tbody>\n",
       "</table>\n",
       "</div>"
      ],
      "text/plain": [
       "        ano id_municipio        pib  impostos_liquidos         va  \\\n",
       "9323   2003      3544509   17383476             505394   16878081   \n",
       "14645  2004      3522802   62234548            2291225   59943324   \n",
       "33025  2007      5103601  135584450            9981247  125603203   \n",
       "96726  2019      2923100  207760986           14311742  193449244   \n",
       "73816  2015      2601409  393925607           28200604  365725003   \n",
       "\n",
       "       va_agropecuaria  va_industria  va_servicos  va_adespss  \n",
       "9323           5207312       1286491      4986100     5398178  \n",
       "14645         13365260       5399281     24826828    16351955  \n",
       "33025         65428335      17329679     24473648    18371541  \n",
       "96726          8225106      13609286     69581320   102033532  \n",
       "73816         29662508      22015785    162263561   151783150  "
      ]
     },
     "execution_count": 6,
     "metadata": {},
     "output_type": "execute_result"
    }
   ],
   "source": [
    "df.sample(5)"
   ]
  }
 ],
 "metadata": {
  "kernelspec": {
   "display_name": "Python 3.8.10 64-bit",
   "language": "python",
   "name": "python3"
  },
  "language_info": {
   "codemirror_mode": {
    "name": "ipython",
    "version": 3
   },
   "file_extension": ".py",
   "mimetype": "text/x-python",
   "name": "python",
   "nbconvert_exporter": "python",
   "pygments_lexer": "ipython3",
   "version": "3.8.10"
  },
  "orig_nbformat": 4,
  "vscode": {
   "interpreter": {
    "hash": "916dbcbb3f70747c44a77c7bcd40155683ae19c65e1c03b4aa3499c5328201f1"
   }
  }
 },
 "nbformat": 4,
 "nbformat_minor": 2
}
